{
  "nbformat": 4,
  "nbformat_minor": 0,
  "metadata": {
    "colab": {
      "name": "nerawang_jenis_kelamin.ipynb",
      "provenance": [],
      "collapsed_sections": [],
      "include_colab_link": true
    },
    "kernelspec": {
      "name": "python3",
      "display_name": "Python 3"
    },
    "language_info": {
      "name": "python"
    }
  },
  "cells": [
    {
      "cell_type": "markdown",
      "metadata": {
        "id": "view-in-github",
        "colab_type": "text"
      },
      "source": [
        "<a href=\"https://colab.research.google.com/github/hafid29/prediksi-jeniskelamin-metode-linearRegression-naivebayes/blob/main/nerawang_jenis_kelamin.ipynb\" target=\"_parent\"><img src=\"https://colab.research.google.com/assets/colab-badge.svg\" alt=\"Open In Colab\"/></a>"
      ]
    },
    {
      "cell_type": "code",
      "metadata": {
        "colab": {
          "base_uri": "https://localhost:8080/"
        },
        "id": "rj6Q8WcrJPRt",
        "outputId": "9819df6d-8e68-45c5-ff90-d51067a189fc"
      },
      "source": [
        "from google.colab import drive\n",
        "import pandas as pd\n",
        "drive.mount('/content/drive')\n",
        "# load data sets\n",
        "df = pd.read_csv(\"/content/drive/MyDrive/data-pemilih-kpu.csv\", encoding = 'utf-8-sig')"
      ],
      "execution_count": 1,
      "outputs": [
        {
          "output_type": "stream",
          "text": [
            "Mounted at /content/drive\n"
          ],
          "name": "stdout"
        }
      ]
    },
    {
      "cell_type": "code",
      "metadata": {
        "colab": {
          "base_uri": "https://localhost:8080/",
          "height": 206
        },
        "id": "I6UcnIFVM0mz",
        "outputId": "10f7d280-df8d-4aea-e023-b08f8dc73457"
      },
      "source": [
        "df.head(5)"
      ],
      "execution_count": 2,
      "outputs": [
        {
          "output_type": "execute_result",
          "data": {
            "text/html": [
              "<div>\n",
              "<style scoped>\n",
              "    .dataframe tbody tr th:only-of-type {\n",
              "        vertical-align: middle;\n",
              "    }\n",
              "\n",
              "    .dataframe tbody tr th {\n",
              "        vertical-align: top;\n",
              "    }\n",
              "\n",
              "    .dataframe thead th {\n",
              "        text-align: right;\n",
              "    }\n",
              "</style>\n",
              "<table border=\"1\" class=\"dataframe\">\n",
              "  <thead>\n",
              "    <tr style=\"text-align: right;\">\n",
              "      <th></th>\n",
              "      <th>nama</th>\n",
              "      <th>jenis_kelamin</th>\n",
              "    </tr>\n",
              "  </thead>\n",
              "  <tbody>\n",
              "    <tr>\n",
              "      <th>0</th>\n",
              "      <td>ERWIN TJAHJONO</td>\n",
              "      <td>Laki-Laki</td>\n",
              "    </tr>\n",
              "    <tr>\n",
              "      <th>1</th>\n",
              "      <td>DAVIANDRIE ANDIKA BAHROENY</td>\n",
              "      <td>Laki-Laki</td>\n",
              "    </tr>\n",
              "    <tr>\n",
              "      <th>2</th>\n",
              "      <td>ELAN KURNIAWAN</td>\n",
              "      <td>Laki-Laki</td>\n",
              "    </tr>\n",
              "    <tr>\n",
              "      <th>3</th>\n",
              "      <td>AYU DWI CAHYANING MUKTI</td>\n",
              "      <td>Perempuan</td>\n",
              "    </tr>\n",
              "    <tr>\n",
              "      <th>4</th>\n",
              "      <td>WAHYOEDIN</td>\n",
              "      <td>Laki-Laki</td>\n",
              "    </tr>\n",
              "  </tbody>\n",
              "</table>\n",
              "</div>"
            ],
            "text/plain": [
              "                         nama jenis_kelamin\n",
              "0              ERWIN TJAHJONO     Laki-Laki\n",
              "1  DAVIANDRIE ANDIKA BAHROENY     Laki-Laki\n",
              "2              ELAN KURNIAWAN     Laki-Laki\n",
              "3     AYU DWI CAHYANING MUKTI     Perempuan\n",
              "4                   WAHYOEDIN     Laki-Laki"
            ]
          },
          "metadata": {
            "tags": []
          },
          "execution_count": 2
        }
      ]
    },
    {
      "cell_type": "code",
      "metadata": {
        "id": "c5PogrboM7Nc"
      },
      "source": [
        ""
      ],
      "execution_count": null,
      "outputs": []
    },
    {
      "cell_type": "code",
      "metadata": {
        "colab": {
          "base_uri": "https://localhost:8080/"
        },
        "id": "7rqQiXRSM7eK",
        "outputId": "4080fece-e874-4b5e-e9ce-753f4f4eec11"
      },
      "source": [
        "# mengecek apakah ada data yang null\n",
        "df.isnull().values.any()"
      ],
      "execution_count": 3,
      "outputs": [
        {
          "output_type": "execute_result",
          "data": {
            "text/plain": [
              "True"
            ]
          },
          "metadata": {
            "tags": []
          },
          "execution_count": 3
        }
      ]
    },
    {
      "cell_type": "code",
      "metadata": {
        "colab": {
          "base_uri": "https://localhost:8080/"
        },
        "id": "IKJRYJQeNRnN",
        "outputId": "46d678f8-f9f6-4c0c-d318-013737470d2a"
      },
      "source": [
        "# menghapus baris null dan recheck kembali\n",
        "df = df.dropna(how='all')\n",
        "len(df[pd.isnull(df).any(axis=1)])"
      ],
      "execution_count": 4,
      "outputs": [
        {
          "output_type": "execute_result",
          "data": {
            "text/plain": [
              "0"
            ]
          },
          "metadata": {
            "tags": []
          },
          "execution_count": 4
        }
      ]
    },
    {
      "cell_type": "code",
      "metadata": {
        "colab": {
          "base_uri": "https://localhost:8080/"
        },
        "id": "WATSf_HdNZ99",
        "outputId": "653c81b1-8e9e-486c-8a94-0ccc6d1aa729"
      },
      "source": [
        "# mengecek dimensi dataset\n",
        "df.shape"
      ],
      "execution_count": 5,
      "outputs": [
        {
          "output_type": "execute_result",
          "data": {
            "text/plain": [
              "(12950, 2)"
            ]
          },
          "metadata": {
            "tags": []
          },
          "execution_count": 5
        }
      ]
    },
    {
      "cell_type": "code",
      "metadata": {
        "id": "6PPB1iuSNdcA"
      },
      "source": [
        "# mengubah isi kolom jenis kelamin dari text menjadi integer (Laki-laki = 1; Perempuan= 0)\n",
        "jk_map = {\"Laki-Laki\" : 1, \"Perempuan\" : 0}\n",
        "df[\"jenis_kelamin\"] = df[\"jenis_kelamin\"].map(jk_map)"
      ],
      "execution_count": 6,
      "outputs": []
    },
    {
      "cell_type": "code",
      "metadata": {
        "colab": {
          "base_uri": "https://localhost:8080/",
          "height": 206
        },
        "id": "WhgKrqWeNkIX",
        "outputId": "cf45929e-fbdb-4887-a74d-e6d67e563225"
      },
      "source": [
        "# cek kembali data apakah telah berubah\n",
        "df.head(5)"
      ],
      "execution_count": 7,
      "outputs": [
        {
          "output_type": "execute_result",
          "data": {
            "text/html": [
              "<div>\n",
              "<style scoped>\n",
              "    .dataframe tbody tr th:only-of-type {\n",
              "        vertical-align: middle;\n",
              "    }\n",
              "\n",
              "    .dataframe tbody tr th {\n",
              "        vertical-align: top;\n",
              "    }\n",
              "\n",
              "    .dataframe thead th {\n",
              "        text-align: right;\n",
              "    }\n",
              "</style>\n",
              "<table border=\"1\" class=\"dataframe\">\n",
              "  <thead>\n",
              "    <tr style=\"text-align: right;\">\n",
              "      <th></th>\n",
              "      <th>nama</th>\n",
              "      <th>jenis_kelamin</th>\n",
              "    </tr>\n",
              "  </thead>\n",
              "  <tbody>\n",
              "    <tr>\n",
              "      <th>0</th>\n",
              "      <td>ERWIN TJAHJONO</td>\n",
              "      <td>1</td>\n",
              "    </tr>\n",
              "    <tr>\n",
              "      <th>1</th>\n",
              "      <td>DAVIANDRIE ANDIKA BAHROENY</td>\n",
              "      <td>1</td>\n",
              "    </tr>\n",
              "    <tr>\n",
              "      <th>2</th>\n",
              "      <td>ELAN KURNIAWAN</td>\n",
              "      <td>1</td>\n",
              "    </tr>\n",
              "    <tr>\n",
              "      <th>3</th>\n",
              "      <td>AYU DWI CAHYANING MUKTI</td>\n",
              "      <td>0</td>\n",
              "    </tr>\n",
              "    <tr>\n",
              "      <th>4</th>\n",
              "      <td>WAHYOEDIN</td>\n",
              "      <td>1</td>\n",
              "    </tr>\n",
              "  </tbody>\n",
              "</table>\n",
              "</div>"
            ],
            "text/plain": [
              "                         nama  jenis_kelamin\n",
              "0              ERWIN TJAHJONO              1\n",
              "1  DAVIANDRIE ANDIKA BAHROENY              1\n",
              "2              ELAN KURNIAWAN              1\n",
              "3     AYU DWI CAHYANING MUKTI              0\n",
              "4                   WAHYOEDIN              1"
            ]
          },
          "metadata": {
            "tags": []
          },
          "execution_count": 7
        }
      ]
    },
    {
      "cell_type": "code",
      "metadata": {
        "colab": {
          "base_uri": "https://localhost:8080/"
        },
        "id": "zAaWaJ3GNoou",
        "outputId": "138f3075-2479-4c12-a335-3ac7c397190a"
      },
      "source": [
        "# Mengecek distribusi jenis kelamin pada dataset\n",
        "\n",
        "num_obs = len(df)\n",
        "num_true = len(df.loc[df['jenis_kelamin'] == 1])\n",
        "num_false = len(df.loc[df['jenis_kelamin'] == 0])\n",
        "print(\"Jumlah Pria:  {0} ({1:2.2f}%)\".format(num_true, (num_true/num_obs) * 100))\n",
        "print(\"Jumlah Wanita: {0} ({1:2.2f}%)\".format(num_false, (num_false/num_obs) * 100))"
      ],
      "execution_count": 8,
      "outputs": [
        {
          "output_type": "stream",
          "text": [
            "Jumlah Pria:  6162 (47.58%)\n",
            "Jumlah Wanita: 6788 (52.42%)\n"
          ],
          "name": "stdout"
        }
      ]
    },
    {
      "cell_type": "code",
      "metadata": {
        "id": "dcMJeP8dNwcx"
      },
      "source": [
        "from sklearn.model_selection import train_test_split\n",
        "\n",
        "feature_col_names = [\"nama\"]\n",
        "predicted_class_names = [\"jenis_kelamin\"]\n",
        "\n",
        "X = df[feature_col_names].values     \n",
        "y = df[predicted_class_names].values\n",
        "split_test_size = 0.30\n",
        "\n",
        "text_train, text_test, y_train, y_test = train_test_split(X, y, test_size=split_test_size, stratify=y, random_state=42)"
      ],
      "execution_count": 11,
      "outputs": []
    },
    {
      "cell_type": "code",
      "metadata": {
        "id": "tcnYvDU7Nz1-"
      },
      "source": [
        "Dataset telah dipecah menjadi 2 bagian, mari kita cek distribusi nya."
      ],
      "execution_count": null,
      "outputs": []
    },
    {
      "cell_type": "code",
      "metadata": {
        "colab": {
          "base_uri": "https://localhost:8080/"
        },
        "id": "KAQ8qj4SN08w",
        "outputId": "20f00cd1-250d-4d2b-d464-617f636c60aa"
      },
      "source": [
        "print(\"Dataset Asli Pria       : {0} ({1:0.2f}%)\".format(len(df.loc[df['jenis_kelamin'] == 1]), (len(df.loc[df['jenis_kelamin'] == 1])/len(df.index)) * 100.0))\n",
        "print(\"Dataset Asli Wanita     : {0} ({1:0.2f}%)\".format(len(df.loc[df['jenis_kelamin'] == 0]), (len(df.loc[df['jenis_kelamin'] == 0])/len(df.index)) * 100.0))\n",
        "print(\"\")\n",
        "print(\"Dataset Training Pria   : {0} ({1:0.2f}%)\".format(len(y_train[y_train[:] == 1]), (len(y_train[y_train[:] == 1])/len(y_train) * 100.0)))\n",
        "print(\"Dataset Training Wanita : {0} ({1:0.2f}%)\".format(len(y_train[y_train[:] == 0]), (len(y_train[y_train[:] == 0])/len(y_train) * 100.0)))\n",
        "print(\"\")\n",
        "print(\"Dataset Test Pria       : {0} ({1:0.2f}%)\".format(len(y_test[y_test[:] == 1]), (len(y_test[y_test[:] == 1])/len(y_test) * 100.0)))\n",
        "print(\"Dataset Test Wanita     : {0} ({1:0.2f}%)\".format(len(y_test[y_test[:] == 0]), (len(y_test[y_test[:] == 0])/len(y_test) * 100.0)))\n",
        "\n"
      ],
      "execution_count": 12,
      "outputs": [
        {
          "output_type": "stream",
          "text": [
            "Dataset Asli Pria       : 6162 (47.58%)\n",
            "Dataset Asli Wanita     : 6788 (52.42%)\n",
            "\n",
            "Dataset Training Pria   : 4313 (47.58%)\n",
            "Dataset Training Wanita : 4752 (52.42%)\n",
            "\n",
            "Dataset Test Pria       : 1849 (47.59%)\n",
            "Dataset Test Wanita     : 2036 (52.41%)\n"
          ],
          "name": "stdout"
        }
      ]
    },
    {
      "cell_type": "code",
      "metadata": {
        "id": "rJYHuvc_N6Yn"
      },
      "source": [
        "from sklearn.feature_extraction.text import CountVectorizer\n",
        "\n",
        "vectorizer = CountVectorizer(analyzer = 'char_wb', ngram_range=(2,6))\n",
        "vectorizer.fit(text_train.ravel())\n",
        "\n",
        "X_train = vectorizer.transform(text_train.ravel())\n",
        "X_test = vectorizer.transform(text_test.ravel())"
      ],
      "execution_count": 13,
      "outputs": []
    },
    {
      "cell_type": "code",
      "metadata": {
        "colab": {
          "base_uri": "https://localhost:8080/"
        },
        "id": "AkeguZMgN_xX",
        "outputId": "414482c2-beca-4f0a-f8d1-ddfe9787562a"
      },
      "source": [
        "from sklearn.linear_model import LogisticRegression\n",
        "\n",
        "clf = LogisticRegression()\n",
        "clf.fit(X_train, y_train.ravel())"
      ],
      "execution_count": 14,
      "outputs": [
        {
          "output_type": "execute_result",
          "data": {
            "text/plain": [
              "LogisticRegression(C=1.0, class_weight=None, dual=False, fit_intercept=True,\n",
              "                   intercept_scaling=1, l1_ratio=None, max_iter=100,\n",
              "                   multi_class='auto', n_jobs=None, penalty='l2',\n",
              "                   random_state=None, solver='lbfgs', tol=0.0001, verbose=0,\n",
              "                   warm_start=False)"
            ]
          },
          "metadata": {
            "tags": []
          },
          "execution_count": 14
        }
      ]
    },
    {
      "cell_type": "code",
      "metadata": {
        "colab": {
          "base_uri": "https://localhost:8080/"
        },
        "id": "iCcMEGOvOG9q",
        "outputId": "44014a27-e470-4710-e4c1-3682cda48831"
      },
      "source": [
        "# dataset training\n",
        "print(clf.score(X_train, y_train))\n",
        "\n",
        "# dataset test\n",
        "print(clf.score(X_test, y_test))"
      ],
      "execution_count": 15,
      "outputs": [
        {
          "output_type": "stream",
          "text": [
            "0.9965802537231109\n",
            "0.9366795366795366\n"
          ],
          "name": "stdout"
        }
      ]
    },
    {
      "cell_type": "code",
      "metadata": {
        "colab": {
          "base_uri": "https://localhost:8080/"
        },
        "id": "MZy0brW4OMSK",
        "outputId": "37db0b74-6284-451d-d4a2-fa8bf3f8ab2d"
      },
      "source": [
        "from sklearn import metrics\n",
        "\n",
        "clf_predict = clf.predict(X_test)\n",
        "\n",
        "# training metrics\n",
        "print(\"Accuracy: {0:.4f}\".format(metrics.accuracy_score(y_test, clf_predict)))\n",
        "print(metrics.confusion_matrix(y_test, clf_predict, labels=[1, 0]) )\n",
        "print(\"\")\n",
        "print(\"Classification Report\")\n",
        "print(metrics.classification_report(y_test, clf_predict, labels=[1,0]))"
      ],
      "execution_count": 16,
      "outputs": [
        {
          "output_type": "stream",
          "text": [
            "Accuracy: 0.9367\n",
            "[[1727  122]\n",
            " [ 124 1912]]\n",
            "\n",
            "Classification Report\n",
            "              precision    recall  f1-score   support\n",
            "\n",
            "           1       0.93      0.93      0.93      1849\n",
            "           0       0.94      0.94      0.94      2036\n",
            "\n",
            "    accuracy                           0.94      3885\n",
            "   macro avg       0.94      0.94      0.94      3885\n",
            "weighted avg       0.94      0.94      0.94      3885\n",
            "\n"
          ],
          "name": "stdout"
        }
      ]
    },
    {
      "cell_type": "code",
      "metadata": {
        "colab": {
          "base_uri": "https://localhost:8080/"
        },
        "id": "9BZ-KganOOtH",
        "outputId": "4f3fd690-2cea-4ab5-82d5-993753eaa846"
      },
      "source": [
        "jk_label = {1:\"Laki-Laki\", 0:\"Perempuan\"}\n",
        "\n",
        "test_predict = vectorizer.transform([\"niky felina\"])\n",
        "res = clf.predict(test_predict)\n",
        "\n",
        "print(jk_label[int(res)])"
      ],
      "execution_count": 17,
      "outputs": [
        {
          "output_type": "stream",
          "text": [
            "Perempuan\n"
          ],
          "name": "stdout"
        }
      ]
    },
    {
      "cell_type": "markdown",
      "metadata": {
        "id": "rcormM1-PaQv"
      },
      "source": [
        "**Menggunkan Pipeline**"
      ]
    },
    {
      "cell_type": "code",
      "metadata": {
        "colab": {
          "base_uri": "https://localhost:8080/"
        },
        "id": "JmEPKAvKOTTW",
        "outputId": "35a1ffaf-3ff0-4bfd-93f5-d334193b7cc4"
      },
      "source": [
        "from sklearn.pipeline import Pipeline\n",
        "import numpy as np\n",
        "\n",
        "clf_lg = Pipeline([('vect', CountVectorizer(analyzer = 'char_wb', ngram_range=(2,6))),\n",
        "                     ('clf', LogisticRegression()),\n",
        "])\n",
        "_ = clf_lg.fit(text_train.ravel(), y_train.ravel())\n",
        "predicted = clf_lg.predict(text_test.ravel())\n",
        "np.mean(predicted == y_test.ravel())"
      ],
      "execution_count": 18,
      "outputs": [
        {
          "output_type": "execute_result",
          "data": {
            "text/plain": [
              "0.9366795366795366"
            ]
          },
          "metadata": {
            "tags": []
          },
          "execution_count": 18
        }
      ]
    },
    {
      "cell_type": "code",
      "metadata": {
        "colab": {
          "base_uri": "https://localhost:8080/"
        },
        "id": "_DvjA2eYO3vH",
        "outputId": "6a9e28c4-8049-4b3a-87e6-929807ac4969"
      },
      "source": [
        "result = clf_lg.predict([\"Muhammad Fatah\"])\n",
        "print(jk_label[result[0]])"
      ],
      "execution_count": 19,
      "outputs": [
        {
          "output_type": "stream",
          "text": [
            "Laki-Laki\n"
          ],
          "name": "stdout"
        }
      ]
    },
    {
      "cell_type": "markdown",
      "metadata": {
        "id": "XMJ35MRfPt8T"
      },
      "source": [
        "**Navi Bayes**\n"
      ]
    },
    {
      "cell_type": "code",
      "metadata": {
        "colab": {
          "base_uri": "https://localhost:8080/"
        },
        "id": "FHX5wjukP1fK",
        "outputId": "744747e7-5e82-4e18-b629-fd848fded263"
      },
      "source": [
        "from sklearn.naive_bayes import MultinomialNB\n",
        "import numpy as np\n",
        "clf_nb = Pipeline([('vect', CountVectorizer(analyzer = 'char_wb', ngram_range=(2,6))),\n",
        "                     ('clf', MultinomialNB()),\n",
        "])\n",
        "\n",
        "clf_nb = clf_nb.fit(text_train.ravel(), y_train.ravel())\n",
        "predicted = clf_nb.predict(text_test.ravel())\n",
        "np.mean(predicted == y_test.ravel())"
      ],
      "execution_count": 20,
      "outputs": [
        {
          "output_type": "execute_result",
          "data": {
            "text/plain": [
              "0.9330759330759331"
            ]
          },
          "metadata": {
            "tags": []
          },
          "execution_count": 20
        }
      ]
    },
    {
      "cell_type": "code",
      "metadata": {
        "colab": {
          "base_uri": "https://localhost:8080/"
        },
        "id": "JNjlOf8jP-KJ",
        "outputId": "ee3ca337-54fe-4b78-a7d6-8562e1f1e6d2"
      },
      "source": [
        "result = clf_nb.predict([\"Alifah Rahmah\"])\n",
        "print(jk_label[result[0]])"
      ],
      "execution_count": 21,
      "outputs": [
        {
          "output_type": "stream",
          "text": [
            "Perempuan\n"
          ],
          "name": "stdout"
        }
      ]
    },
    {
      "cell_type": "markdown",
      "metadata": {
        "id": "INBI3P8oQq1m"
      },
      "source": [
        "**Random Forest**"
      ]
    },
    {
      "cell_type": "code",
      "metadata": {
        "colab": {
          "base_uri": "https://localhost:8080/"
        },
        "id": "taEWRtxEQt1C",
        "outputId": "3e8d03ac-d6a9-4dca-91cb-eeecdf2e4cbb"
      },
      "source": [
        "from sklearn.ensemble import RandomForestClassifier\n",
        "import numpy as np\n",
        "clf_rf = Pipeline([('vect', CountVectorizer(analyzer = 'char_wb', ngram_range=(2,6))),\n",
        "                     ('clf', RandomForestClassifier(n_estimators=90, n_jobs=-1)),\n",
        "])\n",
        "\n",
        "clf_rf = clf_rf.fit(text_train.ravel(), y_train.ravel())\n",
        "predicted = clf_rf.predict(text_test.ravel())\n",
        "np.mean(predicted == y_test.ravel())"
      ],
      "execution_count": 22,
      "outputs": [
        {
          "output_type": "execute_result",
          "data": {
            "text/plain": [
              "0.931016731016731"
            ]
          },
          "metadata": {
            "tags": []
          },
          "execution_count": 22
        }
      ]
    },
    {
      "cell_type": "code",
      "metadata": {
        "colab": {
          "base_uri": "https://localhost:8080/"
        },
        "id": "8Z3aZmY_Q38j",
        "outputId": "2e622ed6-6d65-4122-fa96-0a6434ea1ab6"
      },
      "source": [
        "result = clf_rf.predict([\"Yuni ahmad\"])\n",
        "print(jk_label[result[0]])"
      ],
      "execution_count": 23,
      "outputs": [
        {
          "output_type": "stream",
          "text": [
            "Laki-Laki\n"
          ],
          "name": "stdout"
        }
      ]
    }
  ]
}